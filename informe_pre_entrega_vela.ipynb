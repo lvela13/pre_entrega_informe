{
 "cells": [
  {
   "cell_type": "markdown",
   "id": "78d7483f-6f55-4d0f-b33a-4891d01ba13b",
   "metadata": {},
   "source": [
    "# Report: Deaths caused by Tesla cars"
   ]
  },
  {
   "cell_type": "markdown",
   "id": "5d1ec824-3ba4-465c-af6c-8fdfb6580903",
   "metadata": {},
   "source": [
    "1. Introduction & Summary\n",
    "2. The Data Frame \n",
    "3. Methodology\n",
    "4. Results and Conclusions\n",
    "5. Anecdotes"
   ]
  },
  {
   "cell_type": "markdown",
   "id": "f65cf608-fe3e-45a1-bbd6-64bb2ca0694a",
   "metadata": {},
   "source": [
    "## 1. Introduction & Summary\n",
    "\n",
    "The following report aims to raise awareness about the risk of death that Tesla cars can generate by answering questions such as: how many deaths do Tesla cars cause per year? How many are for the use of autopilot? In which countries do the deaths occur? The number of cars that can drive themselves and are full of new technology in their components is growing every year and the risks also increase. "
   ]
  },
  {
   "cell_type": "markdown",
   "id": "d7e44eab-b1b5-43bb-829f-4266d2f45e8a",
   "metadata": {},
   "source": [
    "## 2. The Data Frame \n",
    "\n",
    "The presented dataframe contains data on deaths reported from Tesla car accidents in the last 9 years. The data is determined for each accident, leaving the number of deaths ('Deaths') in one column and the description of the accident ('Description') in another. It also presents in the columns indicating with a boolean flag if the accidents affected only the driver or other participants and the country in which it occurred."
   ]
  },
  {
   "cell_type": "markdown",
   "id": "d1c1375b-9bd3-4166-9605-1dc6fad9ea5d",
   "metadata": {},
   "source": [
    "### Description of the data by columns"
   ]
  },
  {
   "cell_type": "markdown",
   "id": "b74c390e-9c90-4bdd-ab41-f673e0f26cc9",
   "metadata": {},
   "source": [
    "|          **_Column_**          | **_Non-Null Count_** |   **_Type_**  |\n",
    "|:------------------------------:|:--------------------:|:--------------:|\n",
    "|              year              |     131 non-null     |      int64     |\n",
    "|              date              |     131 non-null     | datetime64[ns] |\n",
    "|             country            |     131 non-null     |     object     |\n",
    "|              state             |      91 non-null     |     object     |\n",
    "|           description          |     131 non-null     |     object     |\n",
    "|             deaths             |     131 non-null     |      int64     |\n",
    "|          tesla_driver          |     131 non-null     |      bool      |\n",
    "|         tesla_occupant         |     131 non-null     |      bool      |\n",
    "|          other_vehicle         |     131 non-null     |      bool      |\n",
    "|          cyclists_peds         |     131 non-null     |      bool      |\n",
    "|         tsla_cycl_peds         |     131 non-null     |      bool      |\n",
    "|              model             |      74 non-null     |     object     |\n",
    "|        autopilot_claimed       |     131 non-null     |      bool      |\n",
    "| verified_tesla_autopilot_death |     131 non-null     |      bool      |\n",
    "|             source             |     131 non-null     |     object     |\n",
    "|     fars_nhtsa_case_filing     |      29 non-null     |     object     |\n",
    "|              note              |      10 non-null     |     object     |\n",
    "|           deceased_1           |      33 non-null     |     object     |\n",
    "|           deceased_2           |      4 non-null      |     object     |\n",
    "|           deceased_3           |      1 non-null      |     object     |\n",
    "|           deceased_4           |      0 non-null      |     float64    |"
   ]
  },
  {
   "cell_type": "markdown",
   "id": "47e7bdcc-510f-4d0e-8889-d1ca497d6592",
   "metadata": {},
   "source": [
    "## 3. Methodology\n",
    "\n",
    "- An initial cleaning of the data is done:\n",
    "    - Columns are renamed removing spaces and other characters that were not descriptive.\n",
    "    - Rows that had all null values are removed.\n",
    "- No duplicate values are seen that are relevant to eliminate, so all the rows are left.\n",
    "- The values of the 'year' and 'deaths' columns are formatted to integer, 'tesla_driver', 'tesla_occupant', 'other_vehicle', 'cyclists_peds', 'tsla_cycl_peds', 'autopilot_claimed' and 'verified_tesla_autopilot_death' to boolean format."
   ]
  },
  {
   "cell_type": "markdown",
   "id": "166c22b8-7de2-4399-aa89-bf63a0ad3a16",
   "metadata": {},
   "source": [
    "## 4. Results and Conclusions\n",
    "\n",
    "Clear upward trend in Tesla car death records over the years, with 2019 being the year with the most deaths achieved **(plot 1)** <br>\n",
    "3 people deceased was the highest number of deaths by accident reached, it occurred three times in 2014, the first and the last two in 2020 **(plot 2)**"
   ]
  },
  {
   "cell_type": "markdown",
   "id": "fcf91789-9fdb-4fda-9e23-317d315cdde6",
   "metadata": {},
   "source": [
    "![](PLOT4.png)"
   ]
  },
  {
   "cell_type": "markdown",
   "id": "23be0537-1694-44a0-bb40-fb5cdb85d669",
   "metadata": {},
   "source": [
    "![](PLOT5.png)"
   ]
  },
  {
   "cell_type": "markdown",
   "id": "f324c4c3-b71c-4b4a-b496-98d811b3ca24",
   "metadata": {},
   "source": [
    "USA es el pais que registra mayor cantidad de muertes, esto se puede dar porque es donde mas autos de este tipo se venden. **(plot 3)**<br>\n",
    "El 48% de las muertes reportadas en ese país se dan en el estado de California (CA en el plot) **(plot 4)**"
   ]
  },
  {
   "cell_type": "markdown",
   "id": "e0ef797d-6687-4e54-95d1-91afc3ba2e01",
   "metadata": {},
   "source": [
    "![](PLOT2.png)"
   ]
  },
  {
   "cell_type": "markdown",
   "id": "e914d391-408c-4b0f-aed0-5a3b7445e494",
   "metadata": {},
   "source": [
    "![](PLOT3.png)"
   ]
  },
  {
   "cell_type": "markdown",
   "id": "4b8299cd-d240-4e2c-9ee6-021b85c4c072",
   "metadata": {},
   "source": [
    "The percentage of deaths caused by autopilot was 11% of the total. Although it is not a significant number, it could be better to investigate the description of these accidents in order to avoid future ones and in cars without autopilot, 17 deaths would have been avoided for this reason. **(plot 4)**"
   ]
  },
  {
   "cell_type": "markdown",
   "id": "432772fc-a483-4da9-b07e-db07fbf36edf",
   "metadata": {},
   "source": [
    "![](PLOT1.png)"
   ]
  },
  {
   "cell_type": "markdown",
   "id": "a2e7a820-508b-4add-a194-d98b0d0f1989",
   "metadata": {},
   "source": [
    "## Anecdotes\n",
    "\n",
    "The results of the investigation show that the highest percentage of accidents occurred in the USA, so deep dive research is suggested, focusing on the use of the auto pilot to obtain more significant results. It would also be important to have an auxiliary base where Tesla's sales totals can be seen in order to calculate what the percentage of risk would be on the cars that are in circulation."
   ]
  }
 ],
 "metadata": {
  "kernelspec": {
   "display_name": "Python 3",
   "language": "python",
   "name": "python3"
  },
  "language_info": {
   "codemirror_mode": {
    "name": "ipython",
    "version": 3
   },
   "file_extension": ".py",
   "mimetype": "text/x-python",
   "name": "python",
   "nbconvert_exporter": "python",
   "pygments_lexer": "ipython3",
   "version": "3.8.8"
  }
 },
 "nbformat": 4,
 "nbformat_minor": 5
}
